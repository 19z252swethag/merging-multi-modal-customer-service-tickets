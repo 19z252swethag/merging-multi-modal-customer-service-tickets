{
 "cells": [
  {
   "cell_type": "code",
   "execution_count": 6,
   "metadata": {},
   "outputs": [],
   "source": [
    "import pandas as pd\n",
    "import networkx as nx"
   ]
  },
  {
   "cell_type": "markdown",
   "metadata": {},
   "source": [
    "Reading data"
   ]
  },
  {
   "cell_type": "code",
   "execution_count": 7,
   "metadata": {},
   "outputs": [],
   "source": [
    "df=pd.read_json('contacts.json')\n",
    "df.Email=df.Email.apply(lambda x: \"Email_\"+x if x !='' else '')\n",
    "df.Phone=df.Phone.apply(lambda x: \"Phone_\"+x if x !='' else '')\n",
    "df.OrderId=df.OrderId.apply(lambda x: \"OrderId_\"+x if x !='' else '')"
   ]
  },
  {
   "cell_type": "markdown",
   "metadata": {},
   "source": [
    "Creating Graph G"
   ]
  },
  {
   "cell_type": "code",
   "execution_count": 8,
   "metadata": {},
   "outputs": [
    {
     "name": "stdout",
     "output_type": "stream",
     "text": [
      "1129135 837231\n"
     ]
    }
   ],
   "source": [
    "#Create graph G with edges id <-> email, id <-> phone, id <-> orderId\n",
    "nodes=[]\n",
    "\n",
    "for _,Id,_,_,Contacts,_ in df.itertuples():\n",
    "    nodes.append((Id,{\"Contacts\": Contacts}))\n",
    "    \n",
    "G=nx.Graph()\n",
    "G.add_nodes_from(nodes)\n",
    "\n",
    "G.add_edges_from(df[df.Email != ''][['Id', 'Email']].to_records(index=False))\n",
    "G.add_edges_from(df[df.Phone != ''][['Id', 'Phone']].to_records(index=False))\n",
    "G.add_edges_from(df[df.OrderId != ''][['Id', 'OrderId']].to_records(index=False))\n",
    "\n",
    "print(G.number_of_nodes(), G.number_of_edges())"
   ]
  },
  {
   "cell_type": "markdown",
   "metadata": {},
   "source": [
    "Finding connected components in Graph G"
   ]
  },
  {
   "cell_type": "code",
   "execution_count": 9,
   "metadata": {},
   "outputs": [],
   "source": [
    "#number of connected components\n",
    "conn_comp=list(nx.connected_components(G))"
   ]
  },
  {
   "cell_type": "markdown",
   "metadata": {},
   "source": [
    "Analysis"
   ]
  },
  {
   "cell_type": "code",
   "execution_count": 48,
   "metadata": {},
   "outputs": [],
   "source": [
    "users=[]\n",
    "contact_sum=[]\n",
    "unique_orders=[]\n",
    "# for each connected component we apended the ticket_id within\n",
    "\n",
    "for each_connected_component in conn_comp:\n",
    "    \n",
    "    id_list=[]\n",
    "    order_list=[]\n",
    "\n",
    "    for each_node in each_connected_component:\n",
    "        \n",
    "        # check if the node is a number, append to the id_list\n",
    "        if str(each_node).isnumeric():\n",
    "            id_list.append(each_node)\n",
    "\n",
    "        #check if the node is an OrderId, append to the order_list\n",
    "        if str(each_node).startswith('OrderId_'):\n",
    "            order_list.append(each_node)\n",
    "\n",
    "    # sum of contacts that a node has made\n",
    "    sum_of_contacts=0\n",
    "    for order_id in id_list:\n",
    "        sum_of_contacts += G.nodes[order_id]['Contacts']\n",
    "\n",
    "    output_str1='-'.join([str(each_node) for each_node in sorted(id_list)])\n",
    "    \n",
    "    output_str2=','.join([str(each_node) for each_node in sorted(order_list)])\n",
    "\n",
    "    for id in id_list:\n",
    "        users.append([id, output_str1])\n",
    "        contact_sum.append(sum_of_contacts)\n",
    "        \n",
    "    for order_id in id_list:\n",
    "        unique_orders.append([order_id,output_str2,len(order_list)])"
   ]
  },
  {
   "cell_type": "markdown",
   "metadata": {},
   "source": [
    "Output 1 - Merging tickets belonging to the same user"
   ]
  },
  {
   "cell_type": "code",
   "execution_count": 53,
   "metadata": {},
   "outputs": [
    {
     "name": "stdout",
     "output_type": "stream",
     "text": [
      "            id                              ticket_trace\n",
      "0            0                                         0\n",
      "1            1  1-2458-98519-115061-140081-165605-476346\n",
      "8            2                    2-159312-322639-348955\n",
      "12           3                                         3\n",
      "13           4                                         4\n",
      "...        ...                                       ...\n",
      "499996  499995                                    499995\n",
      "499997  499996                                    499996\n",
      "499998  499997                                    499997\n",
      "236554  499998                             121111-499998\n",
      "499999  499999                                    499999\n",
      "\n",
      "[500000 rows x 2 columns]\n"
     ]
    }
   ],
   "source": [
    "output_final1=pd.DataFrame(users)\n",
    "output_final1=output_final1.rename(columns={0:'id', 1:'ticket_trace'})\n",
    "output_final1.sort_values('id',inplace=True)\n",
    "print(output_final1)"
   ]
  },
  {
   "cell_type": "markdown",
   "metadata": {},
   "source": [
    "Output 2 - Number of times a user has contacted customer service"
   ]
  },
  {
   "cell_type": "code",
   "execution_count": 54,
   "metadata": {},
   "outputs": [
    {
     "name": "stdout",
     "output_type": "stream",
     "text": [
      "        No. of contacts made\n",
      "60351                     99\n",
      "9063                      99\n",
      "60339                     99\n",
      "9056                      99\n",
      "9057                      99\n",
      "...                      ...\n",
      "304023                     0\n",
      "304016                     0\n",
      "454397                     0\n",
      "304011                     0\n",
      "499999                     0\n",
      "\n",
      "[500000 rows x 1 columns]\n"
     ]
    }
   ],
   "source": [
    "output_final2=pd.DataFrame(contact_sum)\n",
    "output_final2=output_final2.rename(columns={0:'No. of contacts made'})\n",
    "output_final2.sort_values('No. of contacts made',ascending=False,inplace=True)\n",
    "print(output_final2)"
   ]
  },
  {
   "cell_type": "markdown",
   "metadata": {},
   "source": [
    "Output 3 - Number of unique orders a user has made"
   ]
  },
  {
   "cell_type": "code",
   "execution_count": 55,
   "metadata": {},
   "outputs": [
    {
     "name": "stdout",
     "output_type": "stream",
     "text": [
      "            id                                      Unique Orders  \\\n",
      "9072    304811  OrderId_BNiqIFerGaPGDfHYQtEMDctQz,OrderId_BZfV...   \n",
      "8524    102740  OrderId_ATdeYmjfHGpRkxOEiUQEYIEHz,OrderId_DFKI...   \n",
      "8519     18722  OrderId_ATdeYmjfHGpRkxOEiUQEYIEHz,OrderId_DFKI...   \n",
      "8520    443180  OrderId_ATdeYmjfHGpRkxOEiUQEYIEHz,OrderId_DFKI...   \n",
      "8521     12596  OrderId_ATdeYmjfHGpRkxOEiUQEYIEHz,OrderId_DFKI...   \n",
      "...        ...                                                ...   \n",
      "148343   61814                                                      \n",
      "350579  235657                                                      \n",
      "350580  235658                                                      \n",
      "350581  289537                                                      \n",
      "0            0                                                      \n",
      "\n",
      "        No. of Orders  \n",
      "9072               22  \n",
      "8524               22  \n",
      "8519               22  \n",
      "8520               22  \n",
      "8521               22  \n",
      "...               ...  \n",
      "148343              0  \n",
      "350579              0  \n",
      "350580              0  \n",
      "350581              0  \n",
      "0                   0  \n",
      "\n",
      "[500000 rows x 3 columns]\n"
     ]
    }
   ],
   "source": [
    "output_final3=pd.DataFrame(unique_orders)\n",
    "output_final3=output_final3.rename(columns={0: 'id', 1:'Unique Orders', 2:'No. of Orders'})\n",
    "output_final3.sort_values('No. of Orders',ascending=False,inplace=True)\n",
    "print(output_final3)"
   ]
  }
 ],
 "metadata": {
  "kernelspec": {
   "display_name": "Python ('base')",
   "language": "python",
   "name": "python3"
  },
  "language_info": {
   "codemirror_mode": {
    "name": "ipython",
    "version": 3
   },
   "file_extension": ".py",
   "mimetype": "text/x-python",
   "name": "python",
   "nbconvert_exporter": "python",
   "pygments_lexer": "ipython3",
   "version": "3.9.13"
  },
  "orig_nbformat": 4,
  "vscode": {
   "interpreter": {
    "hash": "28107a2680e0e51dec9af039386d8b486673486c090e678e2643aacc0b08b9b8"
   }
  }
 },
 "nbformat": 4,
 "nbformat_minor": 2
}
